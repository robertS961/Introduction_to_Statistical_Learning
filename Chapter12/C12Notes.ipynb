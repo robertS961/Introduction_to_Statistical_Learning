{
  "nbformat": 4,
  "nbformat_minor": 0,
  "metadata": {
    "colab": {
      "provenance": []
    },
    "kernelspec": {
      "name": "python3",
      "display_name": "Python 3"
    },
    "language_info": {
      "name": "python"
    }
  },
  "cells": [
    {
      "cell_type": "markdown",
      "source": [
        "# Chapter 12 Unsupervised Learning\n",
        "\n",
        "* Book has primarily involved supervised learning like regression and classification. Where we have a response $Y$ for a set of $n$ observations and $p$ predictors.\n",
        "\n",
        "* Now we will not have a response $Y$ and instead look to find meaningful observations about the data.\n",
        "\n",
        "* Main 2 types we will focus on are\n",
        "  * principal component analysis - tool used for data visualization\n",
        "  * clustering - method for discovering subgroups in the data"
      ],
      "metadata": {
        "id": "Apmm2_c61B0l"
      }
    },
    {
      "cell_type": "code",
      "source": [],
      "metadata": {
        "id": "lJR7fhOT1KXR"
      },
      "execution_count": null,
      "outputs": []
    }
  ]
}