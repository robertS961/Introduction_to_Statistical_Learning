{
  "nbformat": 4,
  "nbformat_minor": 0,
  "metadata": {
    "colab": {
      "provenance": [],
      "toc_visible": true
    },
    "kernelspec": {
      "name": "python3",
      "display_name": "Python 3"
    },
    "language_info": {
      "name": "python"
    }
  },
  "cells": [
    {
      "cell_type": "markdown",
      "source": [
        "# 12.6. Exercises Conceptual"
      ],
      "metadata": {
        "id": "2AMpuBdFlecg"
      }
    },
    {
      "cell_type": "markdown",
      "source": [
        "## Question 1 - This problem involves the K-means clustering algorithm."
      ],
      "metadata": {
        "id": "t_Psg330loT4"
      }
    },
    {
      "cell_type": "markdown",
      "source": [
        "### (a) Prove (12.18).\n"
      ],
      "metadata": {
        "id": "hiGLVJgwlxu4"
      }
    },
    {
      "cell_type": "markdown",
      "source": [
        "### Answer (a)\n",
        "We want to prove the following equality:\n",
        "\n",
        "$$\n",
        "\\frac{1}{|C_k|}\\sum_{i,i' \\in C_k} \\sum_{j=1}^p (x_{ij} - x_{i'j})^2 = 2 \\sum_{i \\in C_k} \\sum_{j=1}^p (x_{ij} - \\bar{x}_{kj})^2\n",
        "$$\n",
        "\n",
        "where $$\\bar{x}_{kj} = \\frac{1}{|C_k|}\\sum_{i \\in C_k} x_{ij} $$.\n",
        "\n",
        "**Proof:**\n",
        "\n",
        "1. Start with the left-hand side (LHS):\n",
        "\n",
        "$$\n",
        "\\frac{1}{|C_k|} \\sum_{i,i' \\in C_k} \\sum_{j=1}^p (x_{ij} - x_{i'j})^2\n",
        "$$\n",
        "\n",
        "2. Expand the squared term:\n",
        "\n",
        "$$\n",
        "(x_{ij} - x_{i'j})^2 = x_{ij}^2 - 2x_{ij}x_{i'j} + x_{i'j}^2\n",
        "$$\n",
        "\n",
        "3. Sum over all pairs ((i, i') in C_k\\):\n",
        "\n",
        "$$\n",
        "\\sum_{i,i' \\in C_k} (x_{ij} - x_{i'j})^2 = \\sum_{i,i' \\in C_k} \\left(x_{ij}^2 - 2x_{ij}x_{i'j} + x_{i'j}^2 \\right)\n",
        "$$\n",
        "\n",
        "   Break this into three sums:\n",
        "\n",
        "$$\n",
        "\\sum_{i,i' \\in C_k} x_{ij}^2 - 2 \\sum_{i,i' \\in C_k} x_{ij} x_{i'j} + \\sum_{i,i' \\in C_k} x_{i'j}^2\n",
        "$$\n",
        "\n",
        "4. Compute each sum:\n",
        "\n",
        "$$\n",
        "\\sum_{i,i' \\in C_k} x_{ij}^2 = \\sum_{i \\in C_k} |C_k| \\cdot x_{ij}^2 = |C_k| \\sum_{i \\in C_k} x_{ij}^2\n",
        "$$\n",
        "\n",
        "\n",
        "$$\n",
        "\\sum_{i,i' \\in C_k} x_{i'j}^2 = \\sum_{i \\in C_k} |C_k| \\cdot x_{i'j}^2 = |C_k| \\sum_{i \\in C_k} x_{ij}^2\n",
        "$$\n",
        "\n",
        "\n",
        "$$\n",
        "\\sum_{i,i' \\in C_k} x_{ij} x_{i'j} = \\left( \\sum_{i \\in C_k} x_{ij} \\right)^2 = |C_k| \\bar{x}_{kj}^2\n",
        "$$\n",
        "\n",
        "5. Combine the results:\n",
        "\n",
        "$$\n",
        "\\sum_{i,i' \\in C_k} (x_{ij} - x_{i'j})^2 = |C_k| \\sum_{i \\in C_k} x_{ij}^2 + |C_k| \\sum_{i \\in C_k} x_{ij}^2 - 2 |C_k| \\bar{x}_{kj}^2\n",
        "$$\n",
        "\n",
        "$$\n",
        "= 2 |C_k| \\sum_{i \\in C_k} x_{ij}^2 - 2 |C_k| \\bar{x}_{kj}^2\n",
        "$$\n",
        "\n",
        "$$\n",
        "= 2 |C_k| \\left( \\sum_{i \\in C_k} x_{ij}^2 - \\bar{x}_{kj}^2 \\right)\n",
        "$$\n",
        "\n",
        "6. Divide by $( |C_k| )$:\n",
        "\n",
        "$$\n",
        "\\frac{1}{|C_k|} \\sum_{i,i' \\in C_k} \\sum_{j=1}^p (x_{ij} - x_{i'j})^2 = \\frac{1}{|C_k|} \\cdot 2 |C_k| \\left( \\sum_{i \\in C_k} x_{ij}^2 - \\bar{x}_{kj}^2 \\right)\n",
        "$$\n",
        "Now use the Variance equation and property to simplify\n",
        "\n",
        "$$\n",
        "= 2 \\sum_{j=1}^p \\left( \\sum_{i \\in C_k} (x_{ij} - \\bar{x}_{kj})^2 \\right)\n",
        "$$\n",
        "\n",
        "Therefore, we have shown that:\n",
        "\n",
        "$$\n",
        "\\frac{1}{|C_k|}\\sum_{i,i' \\in C_k} \\sum_{j=1}^p (x_{ij} - x_{i'j})^2 = 2 \\sum_{i \\in C_k} \\sum_{j=1}^p (x_{ij} - \\bar{x}_{kj})^2\n",
        "$$\n"
      ],
      "metadata": {
        "id": "b8X7PnGEl29r"
      }
    },
    {
      "cell_type": "markdown",
      "source": [
        "### (b) On the basis of this identity, argue that the K-means clustering algorithm (Algorithm 12.2) decreases the objective (12.17) at each iteration.\n",
        "\n",
        "* Equation 12.17 objective is to minimize the left side of (a). Based on (a) we see that it does this by decreasing the variance based on our proof. To decrease variance you bring the mean closer to points in the same cluster.\n",
        "\n",
        "* The algorithm 12.2 goal is to decrease the Euclidean distance between the centroid and points. The centroid is basically a mean vector. It then will pick the points closest to the centroid. This is exactly the right side of (a) which is equivalent to the left side of 12.17."
      ],
      "metadata": {
        "id": "dS08pjb3vSYt"
      }
    },
    {
      "cell_type": "markdown",
      "source": [
        "## Question 2. Suppose that we have four observations, for which we compute a dissimilarity matrix, given by\n",
        "\n",
        " \\begin{bmatrix}\n",
        "      & 0.3  & 0.4  & 0.7  \\\\\n",
        "  0.3  &      & 0.5  & 0.8  \\\\\n",
        " 0.4  & 0.5  &      & 0.45 \\\\\n",
        " 0.7  & 0.8  & 0.45 &      \\\\\n",
        " \\end{bmatrix}\n",
        "\n",
        "For instance, the dissimilarity between the frst and second observations is 0.3, and the dissimilarity between the second and fourth\n",
        "observations is 0.8.\n",
        "\n"
      ],
      "metadata": {
        "id": "tQeMG-ux3URa"
      }
    },
    {
      "cell_type": "markdown",
      "source": [
        "### (a) On the basis of this dissimilarity matrix, sketch the dendrogram that results from hierarchically clustering these four observations using complete linkage. Be sure to indicate on the plot the height at which each fusion occurs, as well as the observations corresponding to each leaf in the dendrogram.\n",
        "\n",
        "* Link 1 and 2 since this is the lowest in the matrix at 0.3.\n",
        "\n",
        "* Now either link 3 to 4 or (1,2) to 3 or (1,2) to 4. The values using complete linkage are as follows. {.45, 0.5, 0.8}, thus we will merge 3 to 4.\n",
        "\n",
        "* Now we have {1,2} and set {3,4}. So we merge {1,2} to {3,4} to give us {1,2,3,4}."
      ],
      "metadata": {
        "id": "Ekc319OkCGJv"
      }
    },
    {
      "cell_type": "markdown",
      "source": [
        "### (b) Repeat (a), this time using single linkage clustering.\n",
        "\n",
        "* First merge 1 to 2 since it is the smallest value. Thus we have {1,2}.\n",
        "\n",
        "* Now either link 3 to 4 or (1,2) to 3 or (1,2) to 4. 3 to 4 will be 0.45. {1,2} to 3 will be 0.4, and (1,2) to 4 is 0.7. Thus the smallest is 0.4. So our new set will be {1,2,3}.\n",
        "\n",
        "* Now {1,2,3} will merge with 4.\n",
        "\n",
        "* There is one significant change from complete linkage to single linkage. That is in step 2 since we take the smallest merge value instead of the largest.\n"
      ],
      "metadata": {
        "id": "MHM-SAGrCMD2"
      }
    },
    {
      "cell_type": "markdown",
      "source": [
        "### (c) Suppose that we cut the dendrogram obtained in (a) such that two clusters result. Which observations are in each cluster?\n",
        "\n",
        "* This wold be after step 2. So one cluster would have set {1,2} and the other cluster would have {3,4}."
      ],
      "metadata": {
        "id": "3XiWIP6gDjZ1"
      }
    },
    {
      "cell_type": "markdown",
      "source": [
        "### (d) Suppose that we cut the dendrogram obtained in (b) such that two clusters result. Which observations are in each cluster?\n",
        "\n",
        "* This would also be after step 2. Therefore, the first cluster would have {1,2,3} and the other cluster would have {4}.\n",
        "\n"
      ],
      "metadata": {
        "id": "kNP65QcIGweQ"
      }
    },
    {
      "cell_type": "markdown",
      "source": [
        "### (e) It is mentioned in this chapter that at each fusion in the dendrogram, the position of the two clusters being fused can be swapped without changing the meaning of the dendrogram. Draw a dendrogram that is equivalent to the dendrogram in (a), for which two or more of the leaves are repositioned, but for which the meaning of the dendrogram is the same.\n",
        "\n",
        "* The first fusion in (a) was 1 to 2. We could swap this and make it a fusion of 2 to 1.\n",
        "\n",
        "* Next we fussed 3 to 4. We could swap this to make the fusion 4 to 3.\n",
        "\n",
        "* Lastly, we fussed {1,2} to {3,4} for {1,2,3,4}. This time we can fuse {4,3} to {2,1} for {4,3,2,1} which is equivalent to {1,2,3,4}.\n",
        "\n",
        "* This dendrogram is arranged differently with it leaves but it is equivalently the same."
      ],
      "metadata": {
        "id": "DOGVILSDHE_o"
      }
    },
    {
      "cell_type": "markdown",
      "source": [
        "## Question - 3. In this problem, you will perform K-means clustering manually, with K = 2, on a small example with n = 6 observations and p = 2 features. The observations are as follows.\n",
        "\n",
        "> | Obs. | $X_1$ | $X_2$ |\n",
        "> |------|-------|-------|\n",
        "> | 1    | 1     | 4     |\n",
        "> | 2    | 1     | 3     |\n",
        "> | 3    | 0     | 4     |\n",
        "> | 4    | 5     | 1     |\n",
        "> | 5    | 6     | 2     |\n",
        "> | 6    | 4     | 0     |\n",
        "\n"
      ],
      "metadata": {
        "id": "OGrof7u1HNcQ"
      }
    },
    {
      "cell_type": "markdown",
      "source": [
        "### (a) Plot the observations."
      ],
      "metadata": {
        "id": "3DNfh5qLIBH_"
      }
    },
    {
      "cell_type": "code",
      "source": [
        "import numpy as np\n",
        "import matplotlib.pyplot as plt\n",
        "X = np.array([[1,4], [1,3], [0,4], [5,1], [6,2], [4,0]])\n",
        "plt.scatter(X[:,0], X[:,1])\n",
        "plt.show()\n"
      ],
      "metadata": {
        "colab": {
          "base_uri": "https://localhost:8080/",
          "height": 430
        },
        "id": "8ZWpVB-hIXAo",
        "outputId": "cb466348-74a8-438f-a21b-bb3cf2c5af9f"
      },
      "execution_count": 2,
      "outputs": [
        {
          "output_type": "display_data",
          "data": {
            "text/plain": [
              "<Figure size 640x480 with 1 Axes>"
            ],
            "image/png": "[encoded data removed]"
          },
          "metadata": {}
        }
      ]
    },
    {
      "cell_type": "markdown",
      "source": [
        "### (b) Randomly assign a cluster label to each observation. You can use the np.random.choice() function to do this. Report the cluster labels for each observation."
      ],
      "metadata": {
        "id": "RLZNR_BHIsMP"
      }
    },
    {
      "cell_type": "code",
      "source": [
        "np.random.seed(1)\n",
        "choices = np.random.choice(2,6)\n",
        "choices"
      ],
      "metadata": {
        "colab": {
          "base_uri": "https://localhost:8080/"
        },
        "id": "OdIlTOIJI2jc",
        "outputId": "4c6e62df-f2cd-4432-dc79-d05cc97110f3"
      },
      "execution_count": 5,
      "outputs": [
        {
          "output_type": "execute_result",
          "data": {
            "text/plain": [
              "array([1, 1, 0, 0, 1, 1])"
            ]
          },
          "metadata": {},
          "execution_count": 5
        }
      ]
    },
    {
      "cell_type": "markdown",
      "source": [
        "### (c) Compute the centroid for each cluster."
      ],
      "metadata": {
        "id": "YFQvZvyRJANY"
      }
    },
    {
      "cell_type": "code",
      "source": [
        "X = np.concatenate((X, choices.reshape(-1, 1)), axis = 1)\n",
        "X"
      ],
      "metadata": {
        "colab": {
          "base_uri": "https://localhost:8080/"
        },
        "id": "aFTu9DBWJOzm",
        "outputId": "46aa9885-5ac9-44fc-bc40-14592f7aef0a"
      },
      "execution_count": 8,
      "outputs": [
        {
          "output_type": "execute_result",
          "data": {
            "text/plain": [
              "array([[1, 4, 1],\n",
              "       [1, 3, 1],\n",
              "       [0, 4, 0],\n",
              "       [5, 1, 0],\n",
              "       [6, 2, 1],\n",
              "       [4, 0, 1]])"
            ]
          },
          "metadata": {},
          "execution_count": 8
        }
      ]
    },
    {
      "cell_type": "code",
      "source": [
        "fig, ax = plt.subplots(1,1,figsize = (8,8))\n",
        "ax.scatter(X[:,0],X[:,1],c = X[:,2])\n"
      ],
      "metadata": {
        "colab": {
          "base_uri": "https://localhost:8080/",
          "height": 694
        },
        "id": "inhG24qnJoM5",
        "outputId": "938ad746-8e07-4aeb-8c07-935057fdbf44"
      },
      "execution_count": 10,
      "outputs": [
        {
          "output_type": "execute_result",
          "data": {
            "text/plain": [
              "<matplotlib.collections.PathCollection at 0x7dba578b10f0>"
            ]
          },
          "metadata": {},
          "execution_count": 10
        },
        {
          "output_type": "display_data",
          "data": {
            "text/plain": [
              "<Figure size 800x800 with 1 Axes>"
            ],
            "image/png": "[encoded data removed]"
          },
          "metadata": {}
        }
      ]
    },
    {
      "cell_type": "code",
      "source": [
        "# Centoid 1\n",
        "X[X[:,2] == 0][:,0:2].mean(axis = 0)"
      ],
      "metadata": {
        "colab": {
          "base_uri": "https://localhost:8080/"
        },
        "id": "aJsyxX7fK-Gq",
        "outputId": "f617631f-af25-472d-9e45-3df656b3a189"
      },
      "execution_count": 11,
      "outputs": [
        {
          "output_type": "execute_result",
          "data": {
            "text/plain": [
              "array([2.5, 2.5])"
            ]
          },
          "metadata": {},
          "execution_count": 11
        }
      ]
    },
    {
      "cell_type": "code",
      "source": [
        "# Centoid 2\n",
        "X[X[:,2] == 1][:,0:2].mean(axis = 0)"
      ],
      "metadata": {
        "colab": {
          "base_uri": "https://localhost:8080/"
        },
        "id": "gGKYFhG1LmX4",
        "outputId": "d92e1188-9724-4e0a-cfd1-438c0d24eb6d"
      },
      "execution_count": 13,
      "outputs": [
        {
          "output_type": "execute_result",
          "data": {
            "text/plain": [
              "array([3.  , 2.25])"
            ]
          },
          "metadata": {},
          "execution_count": 13
        }
      ]
    },
    {
      "cell_type": "markdown",
      "source": [
        "### (d) Assign each observation to the centroid to which it is closest, in terms of Euclidean distance. Report the cluster labels for each observation."
      ],
      "metadata": {
        "id": "GkTUmYDTLywS"
      }
    },
    {
      "cell_type": "code",
      "source": [
        "X_0 = np.array([[1,4,0], [1,3,0], [0,4,0], [5,1,1], [6,2,1], [4,0,1]])"
      ],
      "metadata": {
        "id": "O8bCU5BYMCWz"
      },
      "execution_count": 14,
      "outputs": []
    },
    {
      "cell_type": "code",
      "source": [
        "#The top 3 go to Centoid 1 and the bottom 3 go to centoid 2"
      ],
      "metadata": {
        "id": "QLOrJfDhM1i-"
      },
      "execution_count": 15,
      "outputs": []
    },
    {
      "cell_type": "markdown",
      "source": [
        "### (e) Repeat (c) and (d) until the answers obtained stop changing."
      ],
      "metadata": {
        "id": "wysTesikNBiz"
      }
    },
    {
      "cell_type": "code",
      "source": [
        "fig, ax = plt.subplots(1,1,figsize = (8,8))\n",
        "ax.scatter(X_0[:,0],X_0[:,1],c = X_0[:,2])"
      ],
      "metadata": {
        "colab": {
          "base_uri": "https://localhost:8080/",
          "height": 694
        },
        "id": "vOtrvqFaNGcs",
        "outputId": "1b038564-7f0d-409c-e0ed-afd8f67a8bc1"
      },
      "execution_count": 16,
      "outputs": [
        {
          "output_type": "execute_result",
          "data": {
            "text/plain": [
              "<matplotlib.collections.PathCollection at 0x7dba57797130>"
            ]
          },
          "metadata": {},
          "execution_count": 16
        },
        {
          "output_type": "display_data",
          "data": {
            "text/plain": [
              "<Figure size 800x800 with 1 Axes>"
            ],
            "image/png": "[encoded data removed]"
          },
          "metadata": {}
        }
      ]
    },
    {
      "cell_type": "code",
      "source": [
        "c1 = X_0[X_0[:,2] == 0][:,0:2].mean(axis = 0)\n",
        "c2 = X_0[X_0[:,2] == 1][:,0:2].mean(axis = 0)\n",
        "c1,c2"
      ],
      "metadata": {
        "colab": {
          "base_uri": "https://localhost:8080/"
        },
        "id": "cN33r9_KNMh1",
        "outputId": "15f416bc-7370-4695-cf68-ea6602ce1ebf"
      },
      "execution_count": 18,
      "outputs": [
        {
          "output_type": "execute_result",
          "data": {
            "text/plain": [
              "(array([0.66666667, 3.66666667]), array([5., 1.]))"
            ]
          },
          "metadata": {},
          "execution_count": 18
        }
      ]
    },
    {
      "cell_type": "code",
      "source": [
        "# They will not change anymore now."
      ],
      "metadata": {
        "id": "k9UVPxYZNZZA"
      },
      "execution_count": 19,
      "outputs": []
    },
    {
      "cell_type": "markdown",
      "source": [
        "### (f) In your plot from (a), color the observations according to the cluster labels obtained."
      ],
      "metadata": {
        "id": "LMlhfKF0NfDn"
      }
    },
    {
      "cell_type": "code",
      "source": [
        "fig, ax = plt.subplots(1,1,figsize = (8,8))\n",
        "ax.scatter(X_0[:,0],X_0[:,1],c = X_0[:,2])"
      ],
      "metadata": {
        "colab": {
          "base_uri": "https://localhost:8080/",
          "height": 694
        },
        "id": "nAXl06_JNkm0",
        "outputId": "a51b6a6d-591a-4b8f-a74b-b5a3c15b3a7f"
      },
      "execution_count": 20,
      "outputs": [
        {
          "output_type": "execute_result",
          "data": {
            "text/plain": [
              "<matplotlib.collections.PathCollection at 0x7dba576bdf30>"
            ]
          },
          "metadata": {},
          "execution_count": 20
        },
        {
          "output_type": "display_data",
          "data": {
            "text/plain": [
              "<Figure size 800x800 with 1 Axes>"
            ],
            "image/png": "[encoded data removed]"
          },
          "metadata": {}
        }
      ]
    },
    {
      "cell_type": "markdown",
      "source": [
        "## Question - 4. Suppose that for a particular data set, we perform hierarchical clustering using single linkage and using complete linkage. We obtain two dendrograms."
      ],
      "metadata": {
        "id": "6v6VS6WxNmXF"
      }
    },
    {
      "cell_type": "markdown",
      "source": [
        "### (a) At a certain point on the single linkage dendrogram, the clusters {1, 2, 3} and {4, 5} fuse. On the complete linkage dendrogram, the clusters {1, 2, 3} and {4, 5} also fuse at a certain point. Which fusion will occur higher on the tree, or will they fuse at the same height, or is there not enough information to tell?\n",
        "\n",
        "* There is not information to tell. If there is a dissimilarity matrix for all of these are equal then they would merge at the same time. IF there is a difference between these numbers in the dissimilarity matrix then complete would most likely link later in the tree."
      ],
      "metadata": {
        "id": "voJpzboTPvwb"
      }
    },
    {
      "cell_type": "markdown",
      "source": [
        "### (b) At a certain point on the single linkage dendrogram, the clusters {5} and {6} fuse. On the complete linkage dendrogram, the clusters {5} and {6} also fuse at a certain point. Which fusion will occur higher on the tree, or will they fuse at the same height, or is there not enough information to tell?\n",
        "\n",
        "* They will always fuse at the same height on the tree since their fusion value is set in stone and won't be changed between the two.\n"
      ],
      "metadata": {
        "id": "cYXQnjHgQOPz"
      }
    },
    {
      "cell_type": "markdown",
      "source": [
        "## Question - 5. In words, describe the results that you would expect if you performed K-means clustering of the eight shoppers in Figure 12.16, on the basis of their sock and computer purchases, with K = 2. Give three answers, one for each of the variable scalings displayed. Explain.\n",
        "\n",
        "* The left picture is heavily scaled by socks purchased. So the two clusters would be those who bought a lot of socks and those who bought less socks.\n",
        "\n",
        "* The middle picture is more evenly scaled. So it would be those who purchased the most stuff and those who purchased less stuff.\n",
        "\n",
        "* The last one is heavily scaled for computers. So it would cluster into those who bought a computer and those who didn't buy computers."
      ],
      "metadata": {
        "id": "jF-78zRfStxQ"
      }
    },
    {
      "cell_type": "markdown",
      "source": [
        "## Question- 6. We saw in Section 12.2.2 that the principal component loading and score vectors provide an approximation to a matrix, in the sense of (12.5). Specifcally, the principal component score and loading vectors solve the optimization problem given in (12.6).\n",
        "\n",
        "## Now, suppose that the M principal component score vectors $z_{im}$, $m = 1,...,M$, are known. Using (12.6), explain that each of the first M principal component loading vectors $φ_{jm}$, $m = 1,...,M$, can be obtained by performing $p$ separate least squares linear regressions. In each regression, the principal component score vectors are the predictors, and one of the features of the data matrix is the response.\n",
        "\n"
      ],
      "metadata": {
        "id": "BJ8j7D5KTJHf"
      }
    },
    {
      "cell_type": "markdown",
      "source": [
        "### Answer 6\n",
        "\n",
        "* Need to set up a regression formula of $$ y=mx + b+ e$$\n",
        "\n",
        "$$x_j = ZB_j + e$$\n",
        "\n",
        "* where we perform a regression for each feature $j$ thus $p$ separate least square linear regressions. $B_j$ is a vector of M principal component loading vectors. $Z$ is a vector of the scores.\n",
        "\n",
        "* The goal is to minimize the above equation thus setting it to 0.\n",
        "\n",
        "$$ 0 = min(x_j - ZB_j)^2 $$\n",
        "$$ Φ_j = min(x_j -ZB_j)^2 $$\n",
        "\n",
        "* Thus after going through each column you will have all the $M$ principal component loading vectors."
      ],
      "metadata": {
        "id": "IFEkU-9wUQU1"
      }
    },
    {
      "cell_type": "code",
      "source": [],
      "metadata": {
        "id": "I2Tb8j3gZNSQ"
      },
      "execution_count": null,
      "outputs": []
    }
  ]
}