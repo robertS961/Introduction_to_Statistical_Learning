{
  "nbformat": 4,
  "nbformat_minor": 0,
  "metadata": {
    "colab": {
      "provenance": []
    },
    "kernelspec": {
      "name": "python3",
      "display_name": "Python 3"
    },
    "language_info": {
      "name": "python"
    }
  },
  "cells": [
    {
      "cell_type": "markdown",
      "source": [
        "# Chapter 11 Survival Analysis and Censored Data\n",
        "\n",
        "* Both of these rely on time until an event occurs. Like time surviving once being diagnosed with cancer.\n",
        "\n",
        "* Problem can use survival analysis for when a certain threshold is reached then it becomes censored data.\n",
        "\n"
      ],
      "metadata": {
        "id": "RYhxUVddvk61"
      }
    },
    {
      "cell_type": "markdown",
      "source": [
        "## 11.1 Survival and Censoring Times\n",
        "\n",
        "* Survival time is when the patient dies or the subscription is canceled, called $T$. The Censoring time is when the patient leaves the study or the study ends, called $C$.\n",
        "  * $Y = min(T,C)$\n",
        "*$σ =  \\begin{cases}\n",
        "      0 & T ≤ C \\\\\n",
        "      1 & T > C\n",
        "   \\end{cases}$\n",
        "   * Thus $σ = 1$ we observe the survival else the censoring time\n",
        "* Therefore for $n$ observations we can find $n(Y, σ)$\n"
      ],
      "metadata": {
        "id": "LvmsxavgwaUD"
      }
    },
    {
      "cell_type": "markdown",
      "source": [
        "## 11.2 A Closer Look at Censoring\n",
        "* Must assume the censoring and survivor analysis are independent of each other.\n",
        "* Right Censoring $ T ≥ Y $\n",
        "* Left Censoring $ T ≤ Y $\n",
        "* Interval Censoring don't know the exact $T$ but rather an interval for $T$"
      ],
      "metadata": {
        "id": "NvyfnFBap2k4"
      }
    },
    {
      "cell_type": "markdown",
      "source": [
        "## 11.3 The Kaplan - Meier Survival Curve\n",
        "* $S(t) = Pr(T >t)$\n",
        "* This can be difficult to compute with the data having a mix of censored and survivor data.\n",
        "  * To fix this we fix $K$ unique death times $d_{1}..... d_{K}$ among non censored patients\n",
        "  * Let $q_{k}$ denote the amount of patients who died at $d_{k}$\n",
        "  * For $1 ... K$ we let $r_{k}$ denote the amount of at risk patients alive\n",
        "  * Use the total law of probability and some simplification. This gives us the Kaplan - Meier Survival Curve\n",
        "* $S(d_{k}) =Π_{j=1}^{k}(\\frac {(r_{j} - q_{j})}{r_{j}})$\n"
      ],
      "metadata": {
        "id": "I2if3t_Tt2XW"
      }
    },
    {
      "cell_type": "markdown",
      "source": [
        "## 11.4 The Log Rank Test\n",
        "* $ W = \\frac {X - μ}{\\sqrt{Var(X)}}$\n",
        "  * $ X = ∑_{k =1}^{K}q_{1k}$\n",
        "  * $μ = ∑_{k =1}^{K} \\frac {r_{1k}}{r_{k}}q_{k}$\n",
        "  * $Var(X) = ∑ _{k =1}^{K} \\frac {q_{k}(r_{1k}/r_{k})(1 -r_{1k}/r_{k})(r_{k} - q_{k})}{r_{k} - 1}$\n",
        "* Then run a p test to see if you can reject the null hypothesis"
      ],
      "metadata": {
        "id": "uIRmmvvVuR-t"
      }
    },
    {
      "cell_type": "markdown",
      "source": [
        "## 11.5 Regression Model with a Survival Response\n",
        "* Tempting to use linear regression on the 11.1 pairs, however censored data will pose a problem."
      ],
      "metadata": {
        "id": "9_KWecMZ09s7"
      }
    },
    {
      "cell_type": "markdown",
      "source": [
        "### 11.5.1 The Hazard Function\n"
      ],
      "metadata": {
        "id": "QjHEHStu3VIo"
      }
    },
    {
      "cell_type": "code",
      "source": [],
      "metadata": {
        "id": "WOrZaOr35ZWG"
      },
      "execution_count": null,
      "outputs": []
    }
  ]
}