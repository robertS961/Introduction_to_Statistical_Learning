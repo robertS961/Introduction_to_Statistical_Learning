{
  "nbformat": 4,
  "nbformat_minor": 0,
  "metadata": {
    "colab": {
      "provenance": [],
      "toc_visible": true
    },
    "kernelspec": {
      "name": "python3",
      "display_name": "Python 3"
    },
    "language_info": {
      "name": "python"
    }
  },
  "cells": [
    {
      "cell_type": "markdown",
      "source": [
        "# 11.9 Conceptual Exercises"
      ],
      "metadata": {
        "id": "2hHWM17GFiFd"
      }
    },
    {
      "cell_type": "markdown",
      "source": [
        "## Question 1 - For each example, state whether or not the censoring mechanism is independent. Justify your answer."
      ],
      "metadata": {
        "id": "cqHy2FG3Fwz_"
      }
    },
    {
      "cell_type": "markdown",
      "source": [
        "### (a) In a study of disease relapse, due to a careless research scientist, all patients whose phone numbers begin with the number “2” are lost to follow up.\n",
        "\n",
        "* This is non-independent since the patients information that is lost is not random and can greatly bias the results."
      ],
      "metadata": {
        "id": "nVsGtaMHF983"
      }
    },
    {
      "cell_type": "markdown",
      "source": [
        "### (b) In a study of longevity, a formatting error causes all patient ages that exceed 99 years to be lost (i.e. we know that those patients are more than 99 years old, but we do not know their exact ages).\n",
        "\n",
        "* Non-independent since the age relies on longevity and we need longevity for the censoring. The loss of these ages could greatly bias the results thus making it non-independent.\n"
      ],
      "metadata": {
        "id": "LarE2Mr_HMZW"
      }
    },
    {
      "cell_type": "markdown",
      "source": [
        "### (c) Hospital A conducts a study of longevity. However, very sick patients tend to be transferred to Hospital B, and are lost to follow up.\n",
        "\n",
        "* Non-independent since the censoring, C, relies on the longevity of the patient. Thus transferring them from the Hospital which relies on time, T, breaks the independence from T to C."
      ],
      "metadata": {
        "id": "PeoRPgbhHo1T"
      }
    },
    {
      "cell_type": "markdown",
      "source": [
        "### (d) In a study of unemployment duration, the people who find work earlier are less motivated to stay in touch with study investigators, and therefore are more likely to be lost to follow up.\n",
        "\n",
        "* Non-Independent since the censoring, C, of leaving the study is increased by an outside factor that relies on time, T. Thus it is Non-indeoendent."
      ],
      "metadata": {
        "id": "ZoiA-9nVIXO7"
      }
    },
    {
      "cell_type": "markdown",
      "source": [
        "### (e) In a study of pregnancy duration, women who deliver their babies pre-term are more likely to do so away from their usual hospital, and thus are more likely to be censored, relative to women who deliver full-term babies.\n",
        "\n",
        "* Non-Independent since the censoring, C, is dependent on which hospital they deliver at. Thus the study will be biased since plenty of women delivering babies will be censored even though they are delivering babies."
      ],
      "metadata": {
        "id": "cNl5DpKpJRbc"
      }
    },
    {
      "cell_type": "markdown",
      "source": [
        "### (f) A researcher wishes to model the number of years of education of the residents of a small town. Residents who enroll in college out of town are more likely to be lost to follow up, and are also more likely to attend graduate school, relative to those who attend college in town.\n",
        "\n",
        "* Non - Independent since the censoring will be effected by the loss of students to follow up. This data would be useful as it would increase the number of years of education per student. Thus lossing this will create a lower education count then what is actually correct for the town."
      ],
      "metadata": {
        "id": "J5cnk-ewJ1qA"
      }
    },
    {
      "cell_type": "markdown",
      "source": [
        "### (g) Researchers conduct a study of disease-free survival (i.e. time until disease relapse following treatment). Patients who have not relapsed within five years are considered to be cured, and thus their survival time is censored at five years.\n",
        "\n",
        "* Non-Independent since the study censoring, C, is limited only at 5 years, however the disease could come up again in the future. Thus to be disease-free is extremely difficult to measure."
      ],
      "metadata": {
        "id": "HwgVIISuKZWl"
      }
    },
    {
      "cell_type": "markdown",
      "source": [
        "### (h) We wish to model the failure time for some electrical component. This component can be manufactured in Iowa or in Pittsburgh, with no diference in quality. The Iowa factory opened five years ago, and so components manufactured in Iowa are censored at five years. The Pittsburgh factory opened two years ago, so those components are censored at two years.\n",
        "\n",
        "* Non- Independent since the censoring of the components is reliant on two different times. The components build 5 years ago have a much higher chance of being censored than those built 2 years ago. We should just examine the components built in the last two years from both factories."
      ],
      "metadata": {
        "id": "wiQMBpx4K-Xd"
      }
    },
    {
      "cell_type": "markdown",
      "source": [
        "### (i) We wish to model the failure time of an electrical component made in two diferent factories, one of which opened before the other. We have reason to believe that the components manufactured in the factory that opened earlier are of higher quality\n",
        "\n",
        "* Non- Independent since the one factory makes higher quality components. This will be bias the data since the other factory makes less quality components. We would need both factories to make equal-quality components."
      ],
      "metadata": {
        "id": "IslK4Y4oMM76"
      }
    },
    {
      "cell_type": "markdown",
      "source": [
        "## Question 2 -We conduct a study with n = 4 participants who have just purchased cell phones, in order to model the time until phone replacement. The first participant replaces her phone after 1.2 years. The second participant still has not replaced her phone at the end of the two-year study period. The third participant changes her phone number and is lost to follow up (but has not yet replaced her phone) 1.5 years into the study. The fourth participant replaces her phone after 0.2 years.\n",
        "\n",
        "* For each of the four participants (i = 1,..., 4), answer the following questions using the notation introduced in Section 11.1.\n",
        "\n",
        "* 11.1 => $ Y = Min(T,C) $"
      ],
      "metadata": {
        "id": "w7VAvVxnMk6N"
      }
    },
    {
      "cell_type": "markdown",
      "source": [
        "### (a) Is the participant’s cell phone replacement time censored?\n",
        "\n",
        "* Yes"
      ],
      "metadata": {
        "id": "8Wkp2Cw0ODCc"
      }
    },
    {
      "cell_type": "markdown",
      "source": [
        "### (b) Is the value of $c_{i}$ known, and if so, then what is it?\n",
        "\n",
        "1. $c_{0} = NA$\n",
        "1. $c_{1} = 2$\n",
        "1. $c_{2} = 1.5$\n",
        "1. $c_{3} = NA$\n"
      ],
      "metadata": {
        "id": "AFIjW2cPOSqc"
      }
    },
    {
      "cell_type": "markdown",
      "source": [
        "### (c) Is the value of $t_{i}$ known, and if so, then what is it?\n",
        "\n",
        "1. $t_{0} = 1.2$\n",
        "1. $t_{1} = NA$\n",
        "1. $t_{2} = NA$\n",
        "1. $t_{3} = 0.2$\n",
        "\n"
      ],
      "metadata": {
        "id": "EbEbBhF0PgnR"
      }
    },
    {
      "cell_type": "markdown",
      "source": [
        "### (d) Is the value of $y_{i}$ known, and if so, then what is it?\n",
        "\n",
        "1. $y_{0} = t_{o}$\n",
        "1. $y_{1} = c_{1}$\n",
        "1. $y_{2} = c_{2}$\n",
        "1. $y_{3} = t_{3}$"
      ],
      "metadata": {
        "id": "WhdIOuy9Pqg2"
      }
    },
    {
      "cell_type": "markdown",
      "source": [
        "### (e) Is the value of $δ_{i}$ known, and if so, then what is it?\n",
        "\n",
        "1. $σ_{0} = 1$\n",
        "1. $σ_{1} = 0$\n",
        "1. $σ_{2} = 0$\n",
        "1. $σ_{3} = 1$\n",
        "\n"
      ],
      "metadata": {
        "id": "OtXRSARiQNF2"
      }
    },
    {
      "cell_type": "markdown",
      "source": [
        "## Question 3. For the example in Exercise 2, report the values of $K$, $d_{1},...,d_{K}$, $r_{1},...,r_{K} $, and $q_{1},...,q_{K}$, where this notation was defined in Section 11.3.\n",
        "\n",
        "* $K$ = 2 since they are 2 unique phone replacement times.\n",
        "\n",
        "* $ d_{0} = 0.2 $ , $d_{1} = 1.2 $ based on $K = 2$\n",
        "\n",
        "* $ r_{0} = 4 $ , $ r_{1} = 3 $ based on $ K = 2 $\n",
        "\n",
        "* $q_{0} = 1$ , $q_{1} = 1$ based on $ K = 2 $"
      ],
      "metadata": {
        "id": "WfkjhPDJQiqD"
      }
    },
    {
      "cell_type": "markdown",
      "source": [
        "## Question - 4. This problem makes use of the Kaplan-Meier survival curve displayed in Figure 11.9. The raw data that went into plotting this survival curve is given in Table 11.4. The covariate column of that table is not needed for this problem."
      ],
      "metadata": {
        "id": "PPINA3WuQgJ5"
      }
    },
    {
      "cell_type": "markdown",
      "source": [
        "### (a) What is the estimated probability of survival past 50 days?\n",
        "\n",
        "* 0.6"
      ],
      "metadata": {
        "id": "iP9CGmp7To30"
      }
    },
    {
      "cell_type": "markdown",
      "source": [
        "### (b) Write out an analytical expression for the estimated survival function.\n",
        "\n",
        "* $σ =  \\begin{cases}\n",
        "      1.0 & t ≤ 25 \\\\\n",
        "      0.8 & 25< t ≤ 40 \\\\\n",
        "      0.6 & 40 < t ≤ 60 \\\\\n",
        "      0.4 & t > 60\n",
        "   \\end{cases}$"
      ],
      "metadata": {
        "id": "ZqVRQSrxUMnU"
      }
    },
    {
      "cell_type": "markdown",
      "source": [
        "## Question - 5. Sketch the survival function given by the equation\n",
        "\n",
        "* $σ =  \\begin{cases}\n",
        "      0.8 & t < 31 \\\\\n",
        "      0.5 & 31 ≤ t < 77 \\\\\n",
        "      0.22 & t ≥ 77\n",
        "   \\end{cases}$"
      ],
      "metadata": {
        "id": "8hyj8FXHXx_q"
      }
    },
    {
      "cell_type": "code",
      "source": [
        "import numpy as np\n",
        "import matplotlib.pyplot as plt\n",
        "\n",
        "x = np.linspace(0,100,100)\n",
        "def f(x):\n",
        "  return np.where(x < 31, 0.8, np.where(x < 77, 0.5, 0.22))\n",
        "\n",
        "plt.plot(x, f(x), 'r')\n",
        "plt.title('Survival Equation')\n",
        "plt.ylabel('Probability of Survival')\n",
        "plt.yticks(np.arange(0, 1.1, 0.10))\n",
        "plt.xlabel('Time')\n",
        "plt.show()"
      ],
      "metadata": {
        "colab": {
          "base_uri": "https://localhost:8080/",
          "height": 472
        },
        "id": "7kzqKC5EYcat",
        "outputId": "d4a1312a-caed-4783-878d-00099e8ca18c"
      },
      "execution_count": 7,
      "outputs": [
        {
          "output_type": "display_data",
          "data": {
            "text/plain": [
              "<Figure size 640x480 with 1 Axes>"
            ],
            "image/png": "[encoded data removed]"
          },
          "metadata": {}
        }
      ]
    },
    {
      "cell_type": "markdown",
      "source": [
        "## Question 6 -  This problem makes use of the data displayed in Figure 11.1. In completing this problem, you can refer to the observation times as $y_{1},...,y_{4}$. The ordering of these observation times can be seen from Figure 11.1; their exact values are not required."
      ],
      "metadata": {
        "id": "_vThoqaKZU6t"
      }
    },
    {
      "cell_type": "markdown",
      "source": [
        "### (a) Report the values of $δ_{1},..., δ_{4}, K, d_{1},...,d_{K}, r_{1},...,r_{K}, q_{1},...,q_{K}$. The relevant notation is defned in Sections 11.1 and 11.3.\n",
        "\n",
        "* $K$ = 2 since they are 2 unique T times.\n",
        "\n",
        "* $ d_{0} = 150 $ , $d_{1} = 300 $ based on $K = 2$\n",
        "\n",
        "* $ r_{0} = 4 $ , $ r_{1} = 2 $ based on $ K = 2 $\n",
        "\n",
        "* $q_{0} = 1$ , $q_{1} = 1$ based on $ K = 2 $"
      ],
      "metadata": {
        "id": "RycbGK45aRnJ"
      }
    },
    {
      "cell_type": "markdown",
      "source": [
        "### (b) Sketch the Kaplan-Meier survival curve corresponding to this data set. (You do not need to use any software to do this — you can sketch it by hand using the results obtained in (a).)"
      ],
      "metadata": {
        "id": "oQbbWmUqbNFB"
      }
    },
    {
      "cell_type": "code",
      "source": [
        "x = np.linspace(0,365,365)\n",
        "def f(x):\n",
        "  return np.where(x < 150, 1.0, np.where(x < 300, 0.75, 0.375))\n",
        "\n",
        "plt.plot(x, f(x), 'r')\n",
        "plt.title('Survival Equation')\n",
        "plt.ylabel('Probability of Survival')\n",
        "plt.yticks(np.arange(0, 1.1, 0.10))\n",
        "plt.xlabel('Time')\n",
        "plt.show()"
      ],
      "metadata": {
        "colab": {
          "base_uri": "https://localhost:8080/",
          "height": 472
        },
        "id": "-K6IBcU1b8Ok",
        "outputId": "e2977999-67a3-4494-b1fd-587c81f61c9f"
      },
      "execution_count": 9,
      "outputs": [
        {
          "output_type": "display_data",
          "data": {
            "text/plain": [
              "<Figure size 640x480 with 1 Axes>"
            ],
            "image/png": "[encoded data removed]"
          },
          "metadata": {}
        }
      ]
    },
    {
      "cell_type": "markdown",
      "source": [
        "### (c) Based on the survival curve estimated in (b), what is the probability that the event occurs within 200 days? What is the probability that the event does not occur within 310 days?\n",
        "\n",
        "* 0.25 probability the event occurs within 200 days\n",
        "\n",
        "* 0.375 probability the event doesn't occur within 310 days"
      ],
      "metadata": {
        "id": "m7AqzpjzeTl4"
      }
    },
    {
      "cell_type": "markdown",
      "source": [
        "### (d) Write out an expression for the estimated survival curve from (b).\n",
        "\n",
        "* $ σ = \\begin{cases}\n",
        "  1.0 & t < 150 \\\\\n",
        "  0.75 & 150 ≤ t < 300 \\\\\n",
        "  0.375 & t ≥ 300\n",
        "\\end{cases}$\n",
        "\n",
        "* **NOTE** We get the Kaplan-Meier Probabilities from $ Π_{j = 1} ^{K} \\frac {r_{j} - q_{j}}{r_{j}}$ and we dervived $r_{j}$ and $q_{j}$ in (a)\n",
        "\n",
        "\n"
      ],
      "metadata": {
        "id": "F40Io5EVe4_w"
      }
    },
    {
      "cell_type": "markdown",
      "source": [
        "## Question- 7. In this problem, we will derive (11.5) and (11.6), which are needed for the construction of the log-rank test statistic (11.8). Recall the notation in Table 11.1."
      ],
      "metadata": {
        "id": "V602YdF8fk_G"
      }
    },
    {
      "cell_type": "markdown",
      "source": [
        "### (a) Assume that there is no diference between the survival functions of the two groups. Then we can think of $q_{1k}$ as the number of failures if we draw $r_{1k}$ observations, without replacement, from a risk set of $r_{k}$ observations that contains a total of $q_{k}$ failures. Argue that $q_{1k}$ follows a hypergeometric distribution. Write the parameters of this distribution in terms of $r_{1k}, r_{k}, q_{k}$."
      ],
      "metadata": {
        "id": "luSEOQ8Rf2bH"
      }
    },
    {
      "cell_type": "code",
      "source": [],
      "metadata": {
        "id": "087Q8A3kgbdc"
      },
      "execution_count": null,
      "outputs": []
    }
  ]
}