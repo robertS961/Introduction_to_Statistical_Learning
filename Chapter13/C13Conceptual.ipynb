{
  "nbformat": 4,
  "nbformat_minor": 0,
  "metadata": {
    "colab": {
      "provenance": [],
      "toc_visible": true
    },
    "kernelspec": {
      "name": "python3",
      "display_name": "Python 3"
    },
    "language_info": {
      "name": "python"
    }
  },
  "cells": [
    {
      "cell_type": "markdown",
      "source": [
        "# 13.7 Conceptual"
      ],
      "metadata": {
        "id": "XWwLuYgAd3SC"
      }
    },
    {
      "cell_type": "markdown",
      "source": [
        "## Question - 1. Suppose we test m null hypotheses, all of which are true. We control the Type I error for each null hypothesis at level $α$. For each subproblem, justify your answer."
      ],
      "metadata": {
        "id": "STbFclQtdpNZ"
      }
    },
    {
      "cell_type": "markdown",
      "source": [
        "### (a) In total, how many Type I errors do we expect to make?\n",
        "\n",
        "* We expect to make $α$ errors."
      ],
      "metadata": {
        "id": "ZR9jKEmAd2UM"
      }
    },
    {
      "cell_type": "markdown",
      "source": [
        "### (b) Suppose that the m tests that we perform are independent. What is the family-wise error rate associated with these m tests? Hint: If two events A and B are independent, then $Pr(A ∩ B) = Pr(A) Pr(B)$.\n",
        "\n",
        "* Family Wise Error Rate is $1 -( 1- α)^m$"
      ],
      "metadata": {
        "id": "5xEnRn-deSoq"
      }
    },
    {
      "cell_type": "markdown",
      "source": [
        "### (c) Suppose that m = 2, and that the p-values for the two tests are positively correlated, so that if one is small then the other will tend to be small as well, and if one is large then the other will tend to be large. How does the family-wise error rate associated with these m = 2 tests qualitatively compare to the answer in (b) with m = 2? Hint: First, suppose that the two p-values are perfectly correlated.\n",
        "\n",
        "> Thus $Pr(A 𝞄 B) = Pr(A) + Pr(B) - Pr(A ∩ B)$\n",
        "\n",
        "> $Pr(A 𝞄 B) = Pr(A) + Pr(B) - Pr(A)$\n",
        "\n",
        "> $Pr(A 𝞄 B) = α + α - α$\n",
        "\n",
        "> $Pr(A 𝞄 B) = α $\n",
        "\n",
        "> $ α < 1 -( 1- α)^m$ If $α$ is small\n",
        "\n",
        "> $ α < 1 -( 1- α)^m$ If $α$ is large\n",
        "\n",
        "\n",
        "> Therefore this will always be less than (b)."
      ],
      "metadata": {
        "id": "Og7TN7wEec1D"
      }
    },
    {
      "cell_type": "markdown",
      "source": [
        "### (d) Suppose again that m = 2, but that now the p-values for the two tests are negatively correlated, so that if one is large then the other will tend to be small. How does the family-wise error rate associated with these m = 2 tests qualitatively compare to the answer in (b) with m = 2? Hint: First, suppose that whenever one p-value is less than α, then the other will be greater than α. In other words, we can never reject both null hypotheses.\n",
        "\n",
        "> Thus $Pr(A 𝞄 B) = Pr(A) + Pr(B) - Pr(A ∩ B)$\n",
        "\n",
        "> $Pr(A 𝞄 B) = Pr(A) + Pr(B) - 0$ since there is no intersection based off the correlation.\n",
        "\n",
        "> $Pr(A 𝞄 B) = α + α $\n",
        "\n",
        "> $Pr(A 𝞄 B) = 2 α $\n",
        "\n",
        "> $ 2 α >  1 -( 1- α)^m$ When $α$ is larger.\n",
        "\n",
        "> $ 2 α >  1 -( 1- α)^m$ When $α$ is small.\n",
        "\n",
        "> It will always be greater than (b)."
      ],
      "metadata": {
        "id": "iPw_uCL8encn"
      }
    },
    {
      "cell_type": "markdown",
      "source": [
        "## Question - 2. Suppose that we test m hypotheses, and control the Type I error for each hypothesis at level α. Assume that all $m$ $p$-values are independent, and that all null hypotheses are true."
      ],
      "metadata": {
        "id": "JTypmF5be_cq"
      }
    },
    {
      "cell_type": "markdown",
      "source": [
        "### (a) Let the random variable $A_j$ equal 1 if the $j_{th}$ null hypothesis is rejected, and 0 otherwise. What is the distribution of $A_j$ ?\n",
        "\n",
        "\n",
        "> $A_j$ follows a Bernoulli distribution: $A_j \\sim \\text{Bernoulli}(p)$\n",
        "\n",
        "> Does since there is two options.\n",
        ">> $Pr(A_j = 1) = α\n",
        "\n",
        ">> $Pr(A_j = 0) = 1 - α\n"
      ],
      "metadata": {
        "id": "cWcPU7nAfJsn"
      }
    },
    {
      "cell_type": "markdown",
      "source": [
        "### (b) What is the distribution of $∑^m_{j=1} A_j$ ?\n",
        "\n",
        "> Follows a binomial distribution $\\sum_{j=1}^m A_j \\sim Bi(m, \\alpha)$."
      ],
      "metadata": {
        "id": "qEYZzUWsfWdU"
      }
    },
    {
      "cell_type": "markdown",
      "source": [
        "### (c) What is the standard deviation of the number of Type I errors that we will make?\n",
        "\n",
        "* The variance of a Binomial is $\\sqrt {np (1- p}$ , so for this situation the standard deviation would be $\\sqrt{m \\alpha (1-\\alpha)}$. For $ n = m$ and $p = α$\n",
        "\n"
      ],
      "metadata": {
        "id": "kOJ0oz97foMS"
      }
    },
    {
      "cell_type": "markdown",
      "source": [
        "## Question - 3. Suppose we test m null hypotheses, and control the Type I error for the $j_{th}$ null hypothesis at level $α_j$ , for $j = 1,...,m$. Argue that the family-wise error rate is no greater than $∑^m_{j=1} A_j$.\n",
        "\n",
        "* We first will assume the events are independent so we can apply the union bond.\n",
        "\n",
        "* FWER assumes we will reject one null hypothesis amongst all our tests.\n",
        "\n",
        "* Therefore the union of all our m tests must included only one type 1 error which equals α.\n",
        "\n",
        "* Therefore the union aka the sum of all tests since there is independence must be less than or equal to $α$ based on the definition of FWER.\n"
      ],
      "metadata": {
        "id": "pI8teXazfucW"
      }
    },
    {
      "cell_type": "markdown",
      "source": [
        "## Question - 4. Suppose we test m = 10 hypotheses, and obtain the p-values shown in Table 13.4."
      ],
      "metadata": {
        "id": "gNtLKpSTgIvu"
      }
    },
    {
      "cell_type": "markdown",
      "source": [
        "### (a) Suppose that we wish to control the Type I error for each null hypothesis at level α = 0.05. Which null hypotheses will we reject?"
      ],
      "metadata": {
        "id": "Y5E0uiYtgYpW"
      }
    },
    {
      "cell_type": "markdown",
      "source": [
        "### (b) Now suppose that we wish to control the FWER at level α = 0.05. Which null hypotheses will we reject? Justify your answer."
      ],
      "metadata": {
        "id": "sAeQkqQ4glbU"
      }
    },
    {
      "cell_type": "markdown",
      "source": [
        "### (c) Now suppose that we wish to control the FDR at level q = 0.05. Which null hypotheses will we reject? Justify your answer."
      ],
      "metadata": {
        "id": "huTLVDQcguVl"
      }
    },
    {
      "cell_type": "markdown",
      "source": [
        "### (d) Now suppose that we wish to control the FDR at level q = 0.2. Which null hypotheses will we reject? Justify your answer."
      ],
      "metadata": {
        "id": "hFoACJJsg1a2"
      }
    },
    {
      "cell_type": "markdown",
      "source": [
        "### (e) Of the null hypotheses rejected at FDR level q = 0.2, approximately how many are false positives? Justify your answer."
      ],
      "metadata": {
        "id": "1gfu0nt2g60e"
      }
    },
    {
      "cell_type": "markdown",
      "source": [
        "## Question - 5. For this problem, you will make up p-values that lead to a certain number of rejections using the Bonferroni and Holm procedures."
      ],
      "metadata": {
        "id": "NUF1xiPkg_BM"
      }
    },
    {
      "cell_type": "markdown",
      "source": [
        "### (a) Give an example of five p-values (i.e. fve numbers between 0 and 1 which, for the purpose of this problem, we will interpret as pvalues) for which both Bonferroni’s method and Holm’s method reject exactly one null hypothesis when controlling the FWERat level 0.1."
      ],
      "metadata": {
        "id": "0YCbcB2UhE97"
      }
    },
    {
      "cell_type": "markdown",
      "source": [
        "### (b) Now give an example of fve p-values for which Bonferroni rejects one null hypothesis and Holm rejects more than one null hypothesis at level 0.1."
      ],
      "metadata": {
        "id": "XhfENNnWhM_L"
      }
    },
    {
      "cell_type": "markdown",
      "source": [
        "## Question - 6. For each of the three panels in Figure 13.3, answer the following questions:"
      ],
      "metadata": {
        "id": "IFAFpDaQhdvL"
      }
    },
    {
      "cell_type": "markdown",
      "source": [
        "### (a) How many false positives, false negatives, true positives, true negatives, Type I errors, and Type II errors result from applying the Bonferroni procedure to control the FWER at level α = 0.05?"
      ],
      "metadata": {
        "id": "8fCSH3fBhog1"
      }
    },
    {
      "cell_type": "markdown",
      "source": [
        "### (b) How many false positives, false negatives, true positives, true negatives, Type I errors, and Type II errors result from applying the Holm procedure to control the FWER at level α = 0.05?"
      ],
      "metadata": {
        "id": "iB7pND8Thuev"
      }
    },
    {
      "cell_type": "markdown",
      "source": [
        "### (c) What is the false discovery proportion associated with using the Bonferroni procedure to control the FWER at level α = 0.05?"
      ],
      "metadata": {
        "id": "wroY9iHjh0iE"
      }
    },
    {
      "cell_type": "markdown",
      "source": [
        "### (d) What is the false discovery proportion associated with using the Holm procedure to control the FWER at level α = 0.05?"
      ],
      "metadata": {
        "id": "t4OCZG9giG-F"
      }
    },
    {
      "cell_type": "markdown",
      "source": [
        "### (e) How would the answers to (a) and (c) change if we instead used the Bonferroni procedure to control the FWER at level α = 0.001?"
      ],
      "metadata": {
        "id": "PiQCaglFiMrJ"
      }
    },
    {
      "cell_type": "code",
      "source": [],
      "metadata": {
        "id": "B3qNKmb6iTRQ"
      },
      "execution_count": null,
      "outputs": []
    }
  ]
}