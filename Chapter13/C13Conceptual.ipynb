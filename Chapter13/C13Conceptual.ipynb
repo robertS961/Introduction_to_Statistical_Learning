{
  "nbformat": 4,
  "nbformat_minor": 0,
  "metadata": {
    "colab": {
      "provenance": [],
      "toc_visible": true
    },
    "kernelspec": {
      "name": "python3",
      "display_name": "Python 3"
    },
    "language_info": {
      "name": "python"
    }
  },
  "cells": [
    {
      "cell_type": "markdown",
      "source": [
        "# 13.7 Conceptual"
      ],
      "metadata": {
        "id": "XWwLuYgAd3SC"
      }
    },
    {
      "cell_type": "markdown",
      "source": [
        "## Question - 1. Suppose we test m null hypotheses, all of which are true. We control the Type I error for each null hypothesis at level $α$. For each subproblem, justify your answer."
      ],
      "metadata": {
        "id": "STbFclQtdpNZ"
      }
    },
    {
      "cell_type": "markdown",
      "source": [
        "### (a) In total, how many Type I errors do we expect to make?\n",
        "\n",
        "* We expect to make $α$ errors."
      ],
      "metadata": {
        "id": "ZR9jKEmAd2UM"
      }
    },
    {
      "cell_type": "markdown",
      "source": [
        "### (b) Suppose that the m tests that we perform are independent. What is the family-wise error rate associated with these m tests? Hint: If two events A and B are independent, then $Pr(A ∩ B) = Pr(A) Pr(B)$.\n",
        "\n",
        "* Family Wise Error Rate is $1 -( 1- α)^m$"
      ],
      "metadata": {
        "id": "5xEnRn-deSoq"
      }
    },
    {
      "cell_type": "markdown",
      "source": [
        "### (c) Suppose that m = 2, and that the p-values for the two tests are positively correlated, so that if one is small then the other will tend to be small as well, and if one is large then the other will tend to be large. How does the family-wise error rate associated with these m = 2 tests qualitatively compare to the answer in (b) with m = 2? Hint: First, suppose that the two p-values are perfectly correlated.\n",
        "\n",
        "> Thus $Pr(A 𝞄 B) = Pr(A) + Pr(B) - Pr(A ∩ B)$\n",
        "\n",
        "> $Pr(A 𝞄 B) = Pr(A) + Pr(B) - Pr(A)$\n",
        "\n",
        "> $Pr(A 𝞄 B) = α + α - α$\n",
        "\n",
        "> $Pr(A 𝞄 B) = α $\n",
        "\n",
        "> $ α < 1 -( 1- α)^m$ If $α$ is small\n",
        "\n",
        "> $ α < 1 -( 1- α)^m$ If $α$ is large\n",
        "\n",
        "\n",
        "> Therefore this will always be less than (b)."
      ],
      "metadata": {
        "id": "Og7TN7wEec1D"
      }
    },
    {
      "cell_type": "markdown",
      "source": [
        "### (d) Suppose again that m = 2, but that now the p-values for the two tests are negatively correlated, so that if one is large then the other will tend to be small. How does the family-wise error rate associated with these m = 2 tests qualitatively compare to the answer in (b) with m = 2? Hint: First, suppose that whenever one p-value is less than α, then the other will be greater than α. In other words, we can never reject both null hypotheses.\n",
        "\n",
        "> Thus $Pr(A 𝞄 B) = Pr(A) + Pr(B) - Pr(A ∩ B)$\n",
        "\n",
        "> $Pr(A 𝞄 B) = Pr(A) + Pr(B) - 0$ since there is no intersection based off the correlation.\n",
        "\n",
        "> $Pr(A 𝞄 B) = α + α $\n",
        "\n",
        "> $Pr(A 𝞄 B) = 2 α $\n",
        "\n",
        "> $ 2 α >  1 -( 1- α)^m$ When $α$ is larger.\n",
        "\n",
        "> $ 2 α >  1 -( 1- α)^m$ When $α$ is small.\n",
        "\n",
        "> It will always be greater than (b)."
      ],
      "metadata": {
        "id": "iPw_uCL8encn"
      }
    },
    {
      "cell_type": "markdown",
      "source": [
        "## Question - 2. Suppose that we test m hypotheses, and control the Type I error for each hypothesis at level α. Assume that all $m$ $p$-values are independent, and that all null hypotheses are true."
      ],
      "metadata": {
        "id": "JTypmF5be_cq"
      }
    },
    {
      "cell_type": "markdown",
      "source": [
        "### (a) Let the random variable $A_j$ equal 1 if the $j_{th}$ null hypothesis is rejected, and 0 otherwise. What is the distribution of $A_j$ ?\n",
        "\n",
        "\n",
        "> $A_j$ follows a Bernoulli distribution: $A_j \\sim \\text{Bernoulli}(p)$\n",
        "\n",
        "> Does since there is two options.\n",
        ">> $Pr(A_j = 1) = α $\n",
        "\n",
        ">> $Pr(A_j = 0) = 1 - α$\n"
      ],
      "metadata": {
        "id": "cWcPU7nAfJsn"
      }
    },
    {
      "cell_type": "markdown",
      "source": [
        "### (b) What is the distribution of $∑^m_{j=1} A_j$ ?\n",
        "\n",
        "> Follows a binomial distribution $\\sum_{j=1}^m A_j \\sim Bi(m, \\alpha)$."
      ],
      "metadata": {
        "id": "qEYZzUWsfWdU"
      }
    },
    {
      "cell_type": "markdown",
      "source": [
        "### (c) What is the standard deviation of the number of Type I errors that we will make?\n",
        "\n",
        "* The variance of a Binomial is $\\sqrt {np (1- p}$ , so for this situation the standard deviation would be $\\sqrt{m \\alpha (1-\\alpha)}$. For $ n = m$ and $p = α$\n",
        "\n"
      ],
      "metadata": {
        "id": "kOJ0oz97foMS"
      }
    },
    {
      "cell_type": "markdown",
      "source": [
        "## Question - 3. Suppose we test m null hypotheses, and control the Type I error for the $j_{th}$ null hypothesis at level $α_j$ , for $j = 1,...,m$. Argue that the family-wise error rate is no greater than $∑^m_{j=1} A_j$.\n",
        "\n",
        "* We first will assume the events are independent so we can apply the union bond.\n",
        "\n",
        "* FWER assumes we will reject one null hypothesis amongst all our tests.\n",
        "\n",
        "* Therefore the union of all our m tests must included only one type 1 error which equals α.\n",
        "\n",
        "* Therefore the union aka the sum of all tests since there is independence must be less than or equal to $α$ based on the definition of FWER.\n"
      ],
      "metadata": {
        "id": "pI8teXazfucW"
      }
    },
    {
      "cell_type": "markdown",
      "source": [
        "## Question - 4. Suppose we test m = 10 hypotheses, and obtain the p-values shown in Table 13.4.\n",
        "\n",
        "## Null Hypotheses and P-values\n",
        "\n",
        "The following null hypotheses and their associated p-values are given:\n",
        "\n",
        "| Null Hypothesis | P-value |\n",
        "|----------------|---------|\n",
        "| H01            | 0.0011  |\n",
        "| H02            | 0.031   |\n",
        "| H03            | 0.017   |\n",
        "| H04            | 0.32    |\n",
        "| H05            | 0.11    |\n",
        "| H06            | 0.90    |\n",
        "| H07            | 0.07    |\n",
        "| H08            | 0.006   |\n",
        "| H09            | 0.004   |\n",
        "| H10            | 0.0009  |\n"
      ],
      "metadata": {
        "id": "gNtLKpSTgIvu"
      }
    },
    {
      "cell_type": "markdown",
      "source": [
        "### (a) Suppose that we wish to control the Type I error for each null hypothesis at level α = 0.05. Which null hypotheses will we reject?\n",
        "\n",
        "> We will reject Null Hypothesis $H_{01}, H_{02}, H_{03}, H_{08}, H_{09}, H_{10}$"
      ],
      "metadata": {
        "id": "Y5E0uiYtgYpW"
      }
    },
    {
      "cell_type": "markdown",
      "source": [
        "### (b) Now suppose that we wish to control the FWER at level α = 0.05. Which null hypotheses will we reject? Justify your answer.\n",
        "\n",
        "> We will use the bonferroni equation for the FWER\n",
        "\n",
        "> FWER Equation is $α/m, m = 10, α = 0.05$\n",
        "\n",
        "> $ = 0.05/10 $ thus $ pval < .005$\n",
        "\n",
        "> Reject $H_{01}, H_{09}, H_{10}$"
      ],
      "metadata": {
        "id": "sAeQkqQ4glbU"
      }
    },
    {
      "cell_type": "markdown",
      "source": [
        "### (c) Now suppose that we wish to control the FDR at level q = 0.05. Which null hypotheses will we reject? Justify your answer.\n"
      ],
      "metadata": {
        "id": "huTLVDQcguVl"
      }
    },
    {
      "cell_type": "markdown",
      "source": [
        "#### Answer (c) - FDR Control at Level q = 0.05\n",
        "\n",
        "To control the false discovery rate (FDR) at level $( q = 0.05 $), we will use the Benjamini-Hochberg (BH) procedure.\n",
        "\n",
        "### Steps in the Benjamini-Hochberg Procedure:\n",
        "\n",
        "1. **Rank the p-values**: Order the p-values from smallest to largest.\n",
        "\n",
        "2. **Calculate the threshold for each hypothesis**: For each hypothesis $( i $), calculate the threshold using the formula:\n",
        "   $[\n",
        "   \\text{Threshold}_i = \\frac{i}{m} \\cdot q\n",
        "   $]\n",
        "   where $( m $) is the total number of hypotheses tested and $( i $) is the rank of the p-value.\n",
        "\n",
        "3. **Determine the largest $( i $)**: Identify the largest $( i $) such that the p-value is less than or equal to the calculated threshold:\n",
        "   $[\n",
        "   p_i \\leq \\text{Threshold}_i\n",
        "   $]\n",
        "\n",
        "4. **Reject the null hypotheses**: Reject all null hypotheses corresponding to the ranks up to the largest $( i $).\n",
        "\n",
        "### Applying the Procedure:\n",
        "\n",
        "**Ranked P-values**:\n",
        "\n",
        "| Rank | Null Hypothesis | P-value |\n",
        "|------|----------------|---------|\n",
        "| 1    | H10            | 0.0009  |\n",
        "| 2    | H01            | 0.0011  |\n",
        "| 3    | H09            | 0.004   |\n",
        "| 4    | H08            | 0.006   |\n",
        "| 5    | H03            | 0.017   |\n",
        "| 6    | H02            | 0.031   |\n",
        "| 7    | H07            | 0.07    |\n",
        "| 8    | H05            | 0.11    |\n",
        "| 9    | H04            | 0.32    |\n",
        "| 10   | H06            | 0.90    |\n",
        "\n",
        "**Thresholds**:\n",
        "\n",
        "Using \\( q = 0.05 \\) and \\( m = 10 \\):\n",
        "\n",
        "- For rank 1: $( \\text{Threshold}_1 = \\frac{1}{10} \\cdot 0.05 = 0.005 $)\n",
        "- For rank 2: $( \\text{Threshold}_2 = \\frac{2}{10} \\cdot 0.05 = 0.01 $)\n",
        "- For rank 3: $( \\text{Threshold}_3 = \\frac{3}{10} \\cdot 0.05 = 0.015 $)\n",
        "- For rank 4: $( \\text{Threshold}_4 = \\frac{4}{10} \\cdot 0.05 = 0.02 $)\n",
        "- For rank 5: $( \\text{Threshold}_5 = \\frac{5}{10} \\cdot 0.05 = 0.025 $)\n",
        "- For rank 6: $( \\text{Threshold}_6 = \\frac{6}{10} \\cdot 0.05 = 0.03 $)\n",
        "- For rank 7: $( \\text{Threshold}_7 = \\frac{7}{10} \\cdot 0.05 = 0.035 $)\n",
        "- For rank 8: $( \\text{Threshold}_8 = \\frac{8}{10} \\cdot 0.05 = 0.04 $)\n",
        "- For rank 9: $( \\text{Threshold}_9 = \\frac{9}{10} \\cdot 0.05 = 0.045 $)\n",
        "- For rank 10: $( \\text{Threshold}_{10} = \\frac{10}{10} \\cdot 0.05 = 0.05 $)\n",
        "\n",
        "### Comparison of P-values to Thresholds:\n",
        "\n",
        "| Rank | Null Hypothesis | P-value | Threshold | Reject? |\n",
        "|------|----------------|---------|-----------|---------|\n",
        "| 1    | H10            | 0.0009  | 0.005     | Yes     |\n",
        "| 2    | H01            | 0.0011  | 0.01      | Yes     |\n",
        "| 3    | H09            | 0.004   | 0.015     | Yes     |\n",
        "| 4    | H08            | 0.006   | 0.02      | Yes     |\n",
        "| 5    | H03            | 0.017   | 0.025     | Yes     |\n",
        "| 6    | H02            | 0.031   | 0.03      | No      |\n",
        "| 7    | H07            | 0.07    | 0.035     | No      |\n",
        "| 8    | H05            | 0.11    | 0.04      | No      |\n",
        "| 9    | H04            | 0.32    | 0.045     | No      |\n",
        "| 10   | H06            | 0.90    | 0.05      | No      |\n",
        "\n",
        "### Conclusion:\n",
        "\n",
        "The null hypotheses that we will reject are:\n",
        "\n",
        "- **$H_{10}$**\n",
        "- **$H_{01}$**\n",
        "- **$H_{09}$**\n",
        "- **$H_{08}$**\n",
        "- **$H_{03}$**\n",
        "\n",
        "This approach ensures that we control the false discovery rate at the desired level \\( q = 0.05 \\).\n"
      ],
      "metadata": {
        "id": "b-cvrtRp93cV"
      }
    },
    {
      "cell_type": "markdown",
      "source": [
        "### (d) Now suppose that we wish to control the FDR at level q = 0.2. Which null hypotheses will we reject? Justify your answer.\n"
      ],
      "metadata": {
        "id": "hFoACJJsg1a2"
      }
    },
    {
      "cell_type": "markdown",
      "source": [
        " #### Answer (d) - FDR Ctronol at Level q = 0.2\n",
        "\n",
        "**Thresholds**:\n",
        "\n",
        "Using \\( q = 0.05 \\) and \\( m = 10 \\):\n",
        "\n",
        "- For rank 1: $( \\text{Threshold}_1 = \\frac{1}{10} \\cdot 0.2 = 0.02 $)\n",
        "- For rank 2: $( \\text{Threshold}_1 = \\frac{2}{10} \\cdot 0.2 = 0.04 $)\n",
        "- For rank 3: $( \\text{Threshold}_3 = \\frac{3}{10} \\cdot 0.2 = 0.06 $)\n",
        "- For rank 4: $( \\text{Threshold}_4 = \\frac{4}{10} \\cdot 0.2 = 0.08 $)\n",
        "- For rank 5: $( \\text{Threshold}_5 = \\frac{5}{10} \\cdot 0.2 = 0.10 $)\n",
        "- For rank 6: $( \\text{Threshold}_6 = \\frac{6}{10} \\cdot 0.2 = 0.12 $)\n",
        "- For rank 7: $( \\text{Threshold}_7 = \\frac{7}{10} \\cdot 0.2 = 0.14 $)\n",
        "- For rank 8: $( \\text{Threshold}_8 = \\frac{8}{10} \\cdot 0.2 = 0.16 $)\n",
        "- For rank 9: $( \\text{Threshold}_9 = \\frac{9}{10} \\cdot 0.2 = 0.18 $)\n",
        "- For rank 10: $( \\text{Threshold}_{10} = \\frac{10}{10} \\cdot 0.2 = 0.20 $)\n",
        "\n",
        "### Comparison of P-values to Thresholds:\n",
        "\n",
        "| Rank | Null Hypothesis | P-value | Threshold | Reject? |\n",
        "|------|----------------|---------|-----------|---------|\n",
        "| 1    | H10            | 0.0009  | 0.02     | Yes     |\n",
        "| 2    | H01            | 0.0011  | 0.04      | Yes     |\n",
        "| 3    | H09            | 0.004   | 0.06     | Yes     |\n",
        "| 4    | H08            | 0.006   | 0.08      | Yes     |\n",
        "| 5    | H03            | 0.017   | 0.10     | Yes     |\n",
        "| 6    | H02            | 0.031   | 0.12     | Yes     |\n",
        "| 7    | H07            | 0.07    | 0.14     | Yes     |\n",
        "| 8    | H05            | 0.11    | 0.16      | Yes      |\n",
        "| 9    | H04            | 0.32    | 0.18     | No      |\n",
        "| 10   | H06            | 0.90    | 0.20      | No      |\n",
        "\n",
        "### Conclusion:\n",
        "\n",
        "The null hypotheses that we will reject are:\n",
        "\n",
        "- **$H_{10}$**\n",
        "- **$H_{01}$**\n",
        "- **$H_{09}$**\n",
        "- **$H_{08}$**\n",
        "- **$H_{03}$**\n",
        "- **$H_{02}$**\n",
        "- **$H_{07}$**\n",
        "- **$H_{05}$**\n",
        "\n",
        "This approach ensures that we control the false discovery rate at the desired level $( q = 0.2 )$."
      ],
      "metadata": {
        "id": "oHB3zOmB-2RW"
      }
    },
    {
      "cell_type": "markdown",
      "source": [
        "### (e) Of the null hypotheses rejected at FDR level q = 0.2, approximately how many are false positives? Justify your answer.\n",
        "\n",
        "* $q = 0.20$ means we expect 20 % of rejected to be false positives. We rejected 8 null hypotheses so around 1-2 will be false positives. 1.6 to be exact!"
      ],
      "metadata": {
        "id": "1gfu0nt2g60e"
      }
    },
    {
      "cell_type": "markdown",
      "source": [
        "## Question - 5. For this problem, you will make up p-values that lead to a certain number of rejections using the Bonferroni and Holm procedures."
      ],
      "metadata": {
        "id": "NUF1xiPkg_BM"
      }
    },
    {
      "cell_type": "markdown",
      "source": [
        "### (a) Give an example of five p-values (i.e. five numbers between 0 and 1 which, for the purpose of this problem, we will interpret as pvalues) for which both Bonferroni’s method and Holm’s method reject exactly one null hypothesis when controlling the FWER at level 0.1.\n",
        "\n",
        " #### **Bonferroni**\n",
        "\n",
        " 1. $\\text{FWER} = \\frac {α}{m}$\n",
        " 1. $\\alpha =0.5, m = 5$\n",
        " 1. $\\text{FWER} = \\frac {.5}{5} = .10$\n",
        "\n",
        " #### **Holm's**\n",
        "\n",
        " 1. Specify the $α = 0.4$\n",
        " 1. Compute and Order the p-values\n",
        " 1. Pick $L = \\text {min} (j: p_{(j)} > \\frac {α}{m + 1 - j})$\n",
        " 1. Reject all Null Hypothesis for $p_j < p_L$\n",
        "\n",
        " #### P Values:\n",
        "\n",
        "| Rank | Null Hypothesis | P-value\n",
        "|------|----------------|---------|\n",
        "| 1    | H03            | 0.09  |\n",
        "| 2    | H01            | 0.1256  |\n",
        "| 3    | H02            | 0.15   |\n",
        "| 4    | H04            | 0.45   |\n",
        "| 5    | H05            | 0.87   |\n",
        "\n",
        "#### Bonferroni Calculations:\n",
        "\n",
        "| Rank | Null Hypothesis | P-value | Threshold | Reject? |\n",
        "|------|----------------|---------|-----------|---------|\n",
        "| 1    | H03            | 0.09  | 0.10    | Yes     |\n",
        "| 2    | H01            | 0.1256  | 0.10      | No     |\n",
        "| 3    | H02            | 0.15   | 0.10     | No     |\n",
        "| 4    | H04            | 0.45   | 0.10      | No    |\n",
        "| 5    | H05            | 0.87   | 0.10      | No     |\n",
        "\n",
        "#### Holm's Calculations:\n",
        "\n",
        "| Rank | Null Hypothesis | P-value | Threshold | Pass? |\n",
        "|------|----------------|---------|-----------|---------|\n",
        "| 1    | H03            | 0.09  | 0.10    | No     |\n",
        "| 2    | H01            | 0.1256  | 0.125     | Yes     |\n",
        "| 3    | H02            | 0.15   | 0.1666     | No     |\n",
        "| 4    | H04            | 0.45   | 0.25      |   Yes   |\n",
        "| 5    | H05            | 0.87   | 0.5      |Yes     |\n",
        "\n",
        "**Refer to the p values by their rank**\n",
        "**Refer to Hypotheses by there designated value**\n",
        "\n",
        "#### Holm's Analysis\n",
        "- 2,4,5 are rejected at first. Then we pick the min$(j$) which is $2$.\n",
        "\n",
        "- Now we reject all null hypotheses with p-values less than $p_j$ which is $p_{02} = 0.1256$. There is only 1 which is $p_{01} = 0.09$. So we reject $H_{03}$ for the corresponding p value.\n",
        "\n",
        "#### Bonferroni Analysis\n",
        "\n",
        "- The threshold is 0.10, calculated above. Only one p-value falls below this value. It is $p_{01}$ so that null hypothesis $H_{03}$ is rejected\n",
        "\n",
        "#### Conclusion\n",
        "\n",
        "- Thus in both cases we rejected one null hypotheses\n",
        "\n",
        "\n"
      ],
      "metadata": {
        "id": "0YCbcB2UhE97"
      }
    },
    {
      "cell_type": "markdown",
      "source": [
        "### (b) Now give an example of five p-values for which Bonferroni rejects one null hypothesis and Holm rejects more than one null hypothesis at level 0.1.\n",
        "\n",
        " #### P Values:\n",
        "\n",
        "\n",
        "| Rank | Null Hypothesis | P-value\n",
        "|------|----------------|---------|\n",
        "| 1    | H03            | 0.09  |\n",
        "| 2    | H01            | 0.124 |\n",
        "| 3    | H02            | 0.169   |\n",
        "| 4    | H04            | 0.45   |\n",
        "| 5    | H05            | 0.87   |\n",
        "\n",
        "#### Bonferroni Calculations:\n",
        "\n",
        "| Rank | Null Hypothesis | P-value | Threshold | Reject? |\n",
        "|------|----------------|---------|-----------|---------|\n",
        "| 1    | H03            | 0.09  | 0.10    | Yes     |\n",
        "| 2    | H01            | 0.124  | 0.10      | No     |\n",
        "| 3    | H02            | 0.169   | 0.10     | No     |\n",
        "| 4    | H04            | 0.45   | 0.10      | No    |\n",
        "| 5    | H05            | 0.87   | 0.10      | No     |\n",
        "\n",
        "#### Holm's Calculations:\n",
        "\n",
        "| Rank | Null Hypothesis | P-value | Threshold | Pass? |\n",
        "|------|----------------|---------|-----------|---------|\n",
        "| 1    | H03            | 0.09  | 0.10    | No     |\n",
        "| 2    | H01            | 0.124  | 0.125     | No     |\n",
        "| 3    | H02            | 0.169   | 0.1666     | Yes    |\n",
        "| 4    | H04            | 0.45   | 0.25      |   Yes   |\n",
        "| 5    | H05            | 0.87   | 0.5      |Yes     |\n",
        "\n",
        "#### Holm's Analysis\n",
        "- 3,4,5 are rejected at first. Then we pick the min$(j$) which is $3$ from $(H_{02}, H_{04}, H_{05})$\n",
        "\n",
        "- Now we reject all null hypothesis with p-values less than $p_j$ which is $p_{03} = 0.169$. There is only 2 which is $p_{02} = 0.124$ and $p_{01} = 0.09$. So we reject $H_{03}$ and $H_{01}$ for the corresponding p value.\n",
        "\n",
        "#### Bonferroni Analysis\n",
        "\n",
        "- The threshold is 0.10, calculated above. Only one p-value falls below this value. It is $p_{01}$ so that null hypothesis $H_{03}$ is rejected\n",
        "\n",
        "#### Conclusion\n",
        "\n",
        "- Thus in Bonferroni we rejected one null hypothesis $H_{03}$ and in Holm's we rejected two null hypotheses $H_{03}, H_{01}$"
      ],
      "metadata": {
        "id": "XhfENNnWhM_L"
      }
    },
    {
      "cell_type": "markdown",
      "source": [
        "## Question - 6. For each of the three panels in Figure 13.3, answer the following questions:"
      ],
      "metadata": {
        "id": "IFAFpDaQhdvL"
      }
    },
    {
      "cell_type": "markdown",
      "source": [
        "### (a) How many false positives, false negatives, true positives, true negatives, Type I errors, and Type II errors result from applying the Bonferroni procedure to control the FWER at level α = 0.05?\n",
        "\n",
        "#### Bonferroni Table\n",
        "\n",
        "| Panel | FP | FN | TP | TN | Type I | Type II |\n",
        "|------ |--- |--- |--- |--- |------- |-------- |\n",
        "| 1     | 0  | 1  | 7  | 2  | 0      | 1       |\n",
        "| 2     | 0  | 1  | 7  | 2  | 0      | 1       |\n",
        "| 3     | 0  | 5  | 3  | 2  | 0      | 5       |"
      ],
      "metadata": {
        "id": "8fCSH3fBhog1"
      }
    },
    {
      "cell_type": "markdown",
      "source": [
        "### (b) How many false positives, false negatives, true positives, true negatives, Type I errors, and Type II errors result from applying the Holm procedure to control the FWER at level α = 0.05?\n",
        "\n",
        "#### Holm's Table\n",
        "\n",
        "| Panel | FP | FN | TP | TN | Type I | Type II |\n",
        "|------ |--- |--- |--- |--- |------- |-------- |\n",
        "| 1     | 0  | 1  | 7  | 2  | 0      | 1       |\n",
        "| 2     | 0  | 0  | 8  | 2  | 0      | 0       |\n",
        "| 3     | 0  | 0  | 8  | 2  | 0      | 0       |\n"
      ],
      "metadata": {
        "id": "iB7pND8Thuev"
      }
    },
    {
      "cell_type": "markdown",
      "source": [
        "### (c) What is the false discovery proportion associated with using the Bonferroni procedure to control the FWER at level α = 0.05?\n",
        "\n",
        "- **False Discovery Proportion** $ = \\frac {\\text{FP}}{\\text{TP}}$\n",
        "\n",
        "- There is always $FP = 0$ so for all 3 panels it is 0."
      ],
      "metadata": {
        "id": "wroY9iHjh0iE"
      }
    },
    {
      "cell_type": "markdown",
      "source": [
        "### (d) What is the false discovery proportion associated with using the Holm procedure to control the FWER at level α = 0.05?\n",
        "\n",
        "- **False Discovery Proportion** $ = \\frac {\\text{FP}}{\\text{TP}}$\n",
        "\n",
        "- There is always $FP = 0$ so for all 3 panels it is 0."
      ],
      "metadata": {
        "id": "t4OCZG9giG-F"
      }
    },
    {
      "cell_type": "markdown",
      "source": [
        "### (e) How would the answers to (a) and (c) change if we instead used the Bonferroni procedure to control the FWER at level α = 0.001?\n",
        "\n",
        "* This is a much stricter $α$ value so the FWER would decrease. So the black bar would be much lower. This means we would reject a lot less null hypotheses, therefore, more false negatives would get through since we wouldn't reject them even though they are false.\n",
        "\n",
        "* This would not change our answer to (c) at all. The two true values that we would need to reject to make false positives are extremely high in terms of the threshold. Therefore lowering the threshold to an even smaller value would not affect the false discovery proportion at all. It might affect our answer to (c) if they changed $α$ to some crazy large number."
      ],
      "metadata": {
        "id": "PiQCaglFiMrJ"
      }
    }
  ]
}